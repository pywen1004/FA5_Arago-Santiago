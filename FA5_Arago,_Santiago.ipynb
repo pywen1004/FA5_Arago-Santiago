{
  "nbformat": 4,
  "nbformat_minor": 0,
  "metadata": {
    "colab": {
      "provenance": []
    },
    "kernelspec": {
      "name": "python3",
      "display_name": "Python 3"
    },
    "language_info": {
      "name": "python"
    }
  },
  "cells": [
    {
      "cell_type": "markdown",
      "source": [
        "P-5.32\n",
        "Write a Python function that takes two three-dimensional numeric data\n",
        "sets and adds them componentwise"
      ],
      "metadata": {
        "id": "vueWxq-cKjWa"
      }
    },
    {
      "cell_type": "code",
      "execution_count": null,
      "metadata": {
        "id": "gy07H-1O3abS",
        "colab": {
          "base_uri": "https://localhost:8080/"
        },
        "outputId": "ab33d4cc-6614-49b1-ec04-764a5e747413"
      },
      "outputs": [
        {
          "output_type": "stream",
          "name": "stdout",
          "text": [
            "[5, 7, 9]\n"
          ]
        }
      ],
      "source": [
        "def add_3d_vectors(vector1, vector2):\n",
        "    if len(vector1) != 3 or len(vector2) != 3:\n",
        "        raise ValueError(\"Both inputs must be three-dimensional vectors\")\n",
        "\n",
        "    return [vector1[i] + vector2[i] for i in range(3)]\n",
        "\n",
        "vector1 = [1, 2, 3]\n",
        "vector2 = [4, 5, 6]\n",
        "result = add_3d_vectors(vector1, vector2)\n",
        "print(result)"
      ]
    },
    {
      "cell_type": "markdown",
      "source": [
        "P-6.32 Give a complete ArrayDeque implementation of the double-ended queue\n",
        "ADT as sketched in Section 6.3.2."
      ],
      "metadata": {
        "id": "Med5JlcN3_xI"
      }
    },
    {
      "cell_type": "code",
      "source": [
        "class ArrayDeque:\n",
        "    DEFAULT_CAPACITY = 10\n",
        "\n",
        "    def __init__(self):\n",
        "        self._data = [None] * ArrayDeque.DEFAULT_CAPACITY\n",
        "        self._size = 0\n",
        "        self._front = 0\n",
        "\n",
        "    def __len__(self):\n",
        "        return self._size\n",
        "\n",
        "    def is_empty(self):\n",
        "        return self._size == 0\n",
        "\n",
        "    def first(self):\n",
        "        if self.is_empty():\n",
        "            raise IndexError(\"Deque is empty\")\n",
        "        return self._data[self._front]\n",
        "\n",
        "    def last(self):\n",
        "        if self.is_empty():\n",
        "            raise IndexError(\"Deque is empty\")\n",
        "        back = (self._front + self._size - 1) % len(self._data)\n",
        "        return self._data[back]\n",
        "\n",
        "    def add_first(self, e):\n",
        "        if self._size == len(self._data):\n",
        "            self._resize(2 * len(self._data))\n",
        "        self._front = (self._front - 1) % len(self._data)\n",
        "        self._data[self._front] = e\n",
        "        self._size += 1\n",
        "\n",
        "    def add_last(self, e):\n",
        "        if self._size == len(self._data):\n",
        "            self._resize(2 * len(self._data))\n",
        "        back = (self._front + self._size) % len(self._data)\n",
        "        self._data[back] = e\n",
        "        self._size += 1\n",
        "\n",
        "    def delete_first(self):\n",
        "        if self.is_empty():\n",
        "            raise IndexError(\"Deque is empty\")\n",
        "        result = self._data[self._front]\n",
        "        self._data[self._front] = None\n",
        "        self._front = (self._front + 1) % len(self._data)\n",
        "        self._size -= 1\n",
        "        if 0 < self._size < len(self._data) // 4:\n",
        "            self._resize(len(self._data) // 2)\n",
        "        return result\n",
        "\n",
        "    def delete_last(self):\n",
        "        if self.is_empty():\n",
        "            raise IndexError(\"Deque is empty\")\n",
        "        back = (self._front + self._size - 1) % len(self._data)\n",
        "        result = self._data[back]\n",
        "        self._data[back] = None\n",
        "        self._size -= 1\n",
        "        if 0 < self._size < len(self._data) // 4:\n",
        "            self._resize(len(self._data) // 2)\n",
        "        return result\n",
        "\n",
        "    def _resize(self, cap):\n",
        "        old_data = self._data\n",
        "        self._data = [None] * cap\n",
        "        walk = self._front\n",
        "        for k in range(self._size):\n",
        "            self._data[k] = old_data[walk]\n",
        "            walk = (walk + 1) % len(old_data)\n",
        "        self._front = 0"
      ],
      "metadata": {
        "id": "hS82OJCr70mX"
      },
      "execution_count": null,
      "outputs": []
    }
  ]
}